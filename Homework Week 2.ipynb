{
 "cells": [
  {
   "cell_type": "markdown",
   "metadata": {},
   "source": [
    "## Homework"
   ]
  },
  {
   "cell_type": "markdown",
   "metadata": {},
   "source": [
    "### 1. History of Probability\n",
    "It is said that de Mere had been betting that, in four rolls of a die, at least one six would turn up. He was winning consistently and, to get more people to play, he changed the game to bet that, in 24 rolls of two dice, a pair of sixes would turn up. It is claimed that de Mere lost with 24 and felt that 25 rolls were necessary to make the game favorable. It was un grand scandale that mathematics was wrong."
   ]
  },
  {
   "cell_type": "code",
   "execution_count": 1,
   "metadata": {},
   "outputs": [
    {
     "data": {
      "text/html": [
       "0.4849"
      ],
      "text/latex": [
       "0.4849"
      ],
      "text/markdown": [
       "0.4849"
      ],
      "text/plain": [
       "[1] 0.4849"
      ]
     },
     "metadata": {},
     "output_type": "display_data"
    },
    {
     "data": {
      "text/html": [
       "0.4993"
      ],
      "text/latex": [
       "0.4993"
      ],
      "text/markdown": [
       "0.4993"
      ],
      "text/plain": [
       "[1] 0.4993"
      ]
     },
     "metadata": {},
     "output_type": "display_data"
    }
   ],
   "source": [
    "#1. Write function to sample from die\n",
    "#2. Write loop or function to tally sucess vs failure (define sucess?)\n",
    "#3. Run 10000 trials\n",
    "#4. Calculate probabilities for 24 rolls and 25 rolls\n",
    "\n",
    "die = c(1:6)\n",
    "n = 2\n",
    "\n",
    "##This function will sample from the vector x, n times with replacement\n",
    "chevalier = function(x,n){\n",
    "  a = sample(x,n,replace = T)\n",
    "  return(a)\n",
    "}\n",
    "m24 = 24\n",
    "m25 = 25\n",
    "\n",
    "twentyfour = character(m24) #create an empty vector of m number of characters\n",
    "mula = list() #create an empty list to get all our results\n",
    "res = vector()\n",
    "\n",
    "for (i in 1:m24){\n",
    "    res = chevalier(die,n)\n",
    "    mula[[i]] = res\n",
    "    if (sum (res == 12)){\n",
    "        twentyfour[i]= \"TRUE\"\n",
    "    }\n",
    "    else {\n",
    "        twentyfour[i] = \"FALSE\"\n",
    "    }\n",
    "  \n",
    "}\n",
    "\n",
    "two.dice <- function(){\n",
    "    first.dice <- sample(1:6, size = 24, replace = T)\n",
    "    second.dice <- sample(1:6, size = 24, replace = T)\n",
    "    condition <- sum((first.dice == second.dice) & (first.dice ==6)) >0\n",
    "    return (condition)\n",
    "}\n",
    "n24 <- replicate(10000, two.dice())\n",
    "sum(n24)/length(n24)\n",
    "\n",
    "twentyfive = character(m25) #create an empty vector of m number of characters\n",
    "mulb = list() #create an empty list to get all our results\n",
    "resb = vector()\n",
    "\n",
    "for (i in 1:m25){\n",
    "    resb = chevalier(die,n)\n",
    "    mulb[[i]] = resb\n",
    "    if (sum(resb == 12)){\n",
    "        twentyfive[i]= \"TRUE\"\n",
    "    }\n",
    "    else {\n",
    "        twentyfive[i] = \"FALSE\"\n",
    "    }\n",
    "  \n",
    "}\n",
    "\n",
    "two.dice <- function(){\n",
    "    first.dice <- sample(1:6, size = 25, replace = T)\n",
    "    second.dice <- sample(1:6, size = 25, replace = T)\n",
    "    condition <- sum((first.dice == second.dice) & (first.dice ==6)) >0\n",
    "    return (condition)\n",
    "}\n",
    "n25 <- replicate(10000, two.dice())\n",
    "sum(n25)/length(n25)"
   ]
  },
  {
   "cell_type": "raw",
   "metadata": {},
   "source": [
    "## 2. Addition rule\n",
    "\n",
    "#### Find the probabilities using the table\n",
    "\n",
    "\n",
    "> 1. Type O or AB.\n",
    "\n",
    "> 2. Type A or AB.\n",
    "\n",
    "> 3. Type AB or Rh negative. \n",
    "\n",
    "> 4. Type O and Negative. \n",
    "\n",
    "> 5. Type AB"
   ]
  },
  {
   "cell_type": "code",
   "execution_count": 2,
   "metadata": {},
   "outputs": [
    {
     "name": "stdout",
     "output_type": "stream",
     "text": [
      "[1] 0.4399593\n",
      "[1] 0.562786\n",
      "[1] 0.9998983\n",
      "[1] 0.0227758\n",
      "[1] 0.4006101\n"
     ]
    }
   ],
   "source": [
    "probability_1 = ((387/9835) + (3940/9835))\n",
    "probability_2 = ((1595/9835) + (3940/9835))\n",
    "probability_3 = ((3940/9835) + (5894/9835))\n",
    "probability_4 = (224/9835)\n",
    "probability_5 = (3940/9835)\n",
    "\n",
    "print (probability_1)\n",
    "print (probability_2)\n",
    "print (probability_3)\n",
    "print (probability_4)\n",
    "print (probability_5)"
   ]
  },
  {
   "cell_type": "markdown",
   "metadata": {},
   "source": [
    "|Type     |O    |A    |B    |AB |Total |\n",
    "|:--------|:----|:----|:---------|:-------|:-----|\n",
    "|Positive |163  |662  |1513      |1603    |3941  |\n",
    "|Negative |224  |933  |2400      |2337    |5894  |\n",
    "|Total    |387  |1595 |3913      |3940    |9835  |\n"
   ]
  },
  {
   "cell_type": "markdown",
   "metadata": {},
   "source": [
    "### 3. Multiplication Rule\n",
    "\n",
    "##### From this exercises: If I roll 5 dice, what is the chance of getting all sixes? What is the chance of getting no sixes?\n",
    "\n",
    "Write a simulation in R to obtain the probabilities for each of these two exercises running 10000 trials\n",
    "\n",
    "Hint.\n",
    "\n",
    "Remember that the change to get all 6 in 5 rolls is $(1/6)^5$\n",
    "\n",
    "and to get no sixes is $(5/6)^5$\n"
   ]
  },
  {
   "cell_type": "code",
   "execution_count": 3,
   "metadata": {},
   "outputs": [
    {
     "data": {
      "text/html": [
       "0.00012"
      ],
      "text/latex": [
       "0.00012"
      ],
      "text/markdown": [
       "0.00012"
      ],
      "text/plain": [
       "[1] 0.00012"
      ]
     },
     "metadata": {},
     "output_type": "display_data"
    },
    {
     "data": {
      "text/html": [
       "0.40357"
      ],
      "text/latex": [
       "0.40357"
      ],
      "text/markdown": [
       "0.40357"
      ],
      "text/plain": [
       "[1] 0.40357"
      ]
     },
     "metadata": {},
     "output_type": "display_data"
    }
   ],
   "source": [
    "#All sixes\n",
    "#1. Write function to sample from die\n",
    "#2. Write function to determine if in each 5 rolls we get all sixes (6*5) \n",
    "#3. Run 10000 trials - Hint check sapply function\n",
    "#4. Calculate probability\n",
    "\n",
    "all_six = function(x){\n",
    "    counter = 0\n",
    "    resultsallsix = sum(chevalier(die,x))\n",
    "    if(resultsallsix == (x*6)){\n",
    "        counter = counter + 1\n",
    "    }\n",
    "    else{\n",
    "        counter = counter + 0\n",
    "    }\n",
    "    return(counter)\n",
    "}\n",
    "\n",
    "trials = 100000\n",
    "\n",
    "sum(sapply(1:trials, function(x) all_six(5)))/trials\n",
    "\n",
    "\n",
    "#No sixes\n",
    "\n",
    "#1. Write function to sample from die - - Hint check sapply function -\n",
    "#2. Write function to determine if in each 5 rolls we get no sixes (6*5)\n",
    "#3. Run 10000 trials \n",
    "#4. Calculate probability\n",
    "\n",
    "no_six <- function(x){\n",
    "    counter = 0\n",
    "    resultsnosix <- chevalier(die,x)\n",
    "    if((x = 6) %in% resultsnosix){\n",
    "        counter = counter + 0\n",
    "    }\n",
    "    else{\n",
    "        counter = counter + 1\n",
    "    }\n",
    "    return(counter)\n",
    "}\n",
    "\n",
    "trials = 100000\n",
    "abc = chevalier (die,5)\n",
    "sum(sapply(1:trials, function(x) no_six(5)))/trials              "
   ]
  },
  {
   "cell_type": "code",
   "execution_count": 4,
   "metadata": {},
   "outputs": [
    {
     "data": {
      "text/html": [
       "0.000128600823045267"
      ],
      "text/latex": [
       "0.000128600823045267"
      ],
      "text/markdown": [
       "0.000128600823045267"
      ],
      "text/plain": [
       "[1] 0.0001286008"
      ]
     },
     "metadata": {},
     "output_type": "display_data"
    },
    {
     "data": {
      "text/html": [
       "0.401877572016461"
      ],
      "text/latex": [
       "0.401877572016461"
      ],
      "text/markdown": [
       "0.401877572016461"
      ],
      "text/plain": [
       "[1] 0.4018776"
      ]
     },
     "metadata": {},
     "output_type": "display_data"
    }
   ],
   "source": [
    "((1/6)^5)\n",
    "((5/6)^5)"
   ]
  },
  {
   "cell_type": "markdown",
   "metadata": {},
   "source": [
    "### 4. Conditional Probability\n",
    "\n",
    "Consider a family that has three children. We are interested in the children's genders. Our sample space is S={(G,G,G),(G,G,B),(G,B,G),(G,B,B),(B,G,G),(B,G,B),(B,B,G),(B,B,B)}. Also assume that all eight possible outcomes are equally likely.\n",
    "\n",
    "1. What is the probability that the three children are girls given that the first child is a girl?\n",
    "\n",
    "2. What is the probability that At least two children are boys given that the first child is a boy?"
   ]
  },
  {
   "cell_type": "code",
   "execution_count": 5,
   "metadata": {},
   "outputs": [
    {
     "data": {
      "text/html": [
       "0.10964928156"
      ],
      "text/latex": [
       "0.10964928156"
      ],
      "text/markdown": [
       "0.10964928156"
      ],
      "text/plain": [
       "[1] 0.1096493"
      ]
     },
     "metadata": {},
     "output_type": "display_data"
    }
   ],
   "source": [
    "#Quiz 1 Question 5\n",
    "\n",
    "n = 1\n",
    "size = 10000\n",
    "p1 = .8\n",
    "p2 = .55\n",
    "p3 = .25\n",
    "r1 = rbinom(size, n, p1)\n",
    "r2 = rbinom(size, n, p2)\n",
    "r3 = rbinom(size, n, p3)\n",
    "r1sum = sum(r1)/length(r1)\n",
    "r2sum = sum(r2)/length(r2)\n",
    "r3sum = sum(r3)/length(r3)\n",
    "probabilityr = ((r1sum)*(r2sum)*(r3sum))\n",
    "probabilityr"
   ]
  },
  {
   "cell_type": "code",
   "execution_count": null,
   "metadata": {},
   "outputs": [],
   "source": []
  }
 ],
 "metadata": {
  "kernelspec": {
   "display_name": "R",
   "language": "R",
   "name": "ir"
  },
  "language_info": {
   "codemirror_mode": "r",
   "file_extension": ".r",
   "mimetype": "text/x-r-source",
   "name": "R",
   "pygments_lexer": "r",
   "version": "3.3.2"
  }
 },
 "nbformat": 4,
 "nbformat_minor": 2
}
