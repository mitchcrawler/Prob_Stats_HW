{
 "cells": [
  {
   "cell_type": "markdown",
   "metadata": {},
   "source": [
    "# Exam 3"
   ]
  },
  {
   "cell_type": "markdown",
   "metadata": {},
   "source": [
    "For questions 1-3 use the file 2015_CHR_Analytic_Data.csv that is added to this folder. This file needs some cleaning before use (you can use any language for this step R, python etc) (10 points)\n",
    "\n",
    "1. Besides counties, this csv contains state totals. Such rows should be filtered out when working with the data, so that you only work with county data. \n",
    "\n",
    "2. Only counties with at least 30,000 people according to “2011 population estimate Value”.\n",
    "3. Only columns ending in “Value” (plus the county code). To check, here is the complete list:\n",
    "\n",
    "    -('COUNTYCODE’, 'Premature death Value', 'Poor or fair health Value', 'Poor physical health days Value', 'Poor mental health days Value', 'Low birthweight Value', 'Adult smoking Value', 'Adult obesity Value', 'Food environment index Value', 'Physical inactivity Value', 'Access to exercise opportunities Value', 'Excessive drinking Value', 'Alcohol-impaired driving deaths Value', 'Sexually transmitted infections Value', 'Teen births Value', 'Uninsured Value', 'Primary care physicians Value', 'Dentists Value', 'Mental health providers Value', 'Preventable hospital stays Value', 'Diabetic screening Value', 'Mammography screening Value', 'High school graduation Value', 'Some college Value', 'Unemployment Value', 'Children in poverty Value', 'Income inequality Value', 'Children in single-parent households Value', 'Social associations Value', 'Violent crime Value', 'Injury deaths Value', 'Air pollution - particulate matter Value', 'Drinking water violations Value', 'Severe housing problems Value', 'Driving alone to work Value', 'Long commute - driving alone Value', '2011 population estimate Value', 'Population that is not proficient in English Value', 'Population living in a rural area Value', 'Diabetes Value', 'HIV prevalence rate Value', 'Premature age-adjusted mortality Value', 'Infant mortality Value', 'Child mortality Value', 'Food insecurity Value', 'Limited access to healthy foods Value', 'Motor vehicle crash deaths Value', 'Drug poisoning deaths Value', 'Uninsured adults Value', 'Uninsured children Value', 'Health care costs Value', 'Could not see doctor due to cost Value', 'Other primary care providers Value', 'Median household income Value', 'Children eligible for free lunch Value', 'Homicide rate Value')\n",
    "4. Only counties with non-nan values for each value column. (keep zeros though)\n",
    "\n",
    "    - Output: print the total number of counties: \n",
    "\t“1. TOTAL NUMBER OF COUNTIES: 823“\n",
    "\n",
    "5. Create a new column, ‘log_paamv’ which is the log transform of 'Premature age-adjusted mortality Value'.  This will be the outcome, response variable to predict. \n",
    "6. Compare the qqplot between log_paamv and Premature age-adjusted mortality Value, did linearity improved?\n",
    "7. Predict “log_paamv” (y) using all “Value” variables except REMOVED_COLUMNS (listed below) as your predictors/features (X). use multiple linear regression, to predict “log_paamv”. you must standardize the data.  \n",
    "    - REMOVED_COLUMNS = ('COUNTYCODE', 'log_paamv', 'Premature age-adjusted mortality Value', 'Premature death Value',  'Uninsured adults Value', 'Teen births Value', 'Food insecurity Value', 'Injury deaths Value', 'Motor vehicle crash deaths Value', 'Drug poisoning deaths Value',  'Child mortality Value', 'Uninsured Value')\n"
   ]
  },
  {
   "cell_type": "markdown",
   "metadata": {},
   "source": [
    "$1.$ Run PCA over all of the predictors from the previous step (all columns of X) and all counties.  (20 points)\t\n",
    "    - a. Produce scree plots, pca plots and biplots for the main principal components, \n",
    "    - b. In no more than one paragraph discuss your results\n",
    "    - c. With the more relevant predictors (you choose how many) run a new multiple linear regression and compare this to the previous linear regression model using the AIC (you can use the anova function - anova(m1, m2) Is there an improvement.\n",
    "    - d. Run regularized predictions using the principal component regression (i.e. use PCA on X and then linear regression fitting the components to y) and compare it to the models (m1 and m2)"
   ]
  },
  {
   "cell_type": "code",
   "execution_count": null,
   "metadata": {},
   "outputs": [],
   "source": [
    "counties = read.csv(file = \"2015_CHR_Analytic_Data.csv\",dec = \".\", sep = \",\", stringsAsFactors=FALSE,\n",
    "                            header = TRUE, na.strings=c(\"\",\" \", \"NA\", \"na\", NA, \"NA\",\" NA\", \"NA \", \" NA \"))\n"
   ]
  },
  {
   "cell_type": "code",
   "execution_count": null,
   "metadata": {},
   "outputs": [],
   "source": [
    "counties_1 = subset(counties, select = c('COUNTYCODE','Premature.death.Value', 'Poor.or.fair.health.Value',\n",
    "                                        'Poor.physical.health.days.Value', 'Poor.mental.health.days.Value',\n",
    "                                        'Low.birthweight.Value', 'Adult.smoking.Value', 'Adult.obesity.Value',\n",
    "                                        'Food.environment.index.Value', 'Physical.inactivity.Value',\n",
    "                                        'Access.to.exercise.opportunities.Value', 'Excessive.drinking.Value',\n",
    "                                        'Alcohol.impaired.driving.deaths.Value', 'Sexually.transmitted.infections.Value',\n",
    "                                        'Teen.births.Value', 'Uninsured.Value', 'Primary.care.physicians.Value',\n",
    "                                        'Dentists.Value', 'Mental.health.providers.Value',\n",
    "                                        'Preventable.hospital.stays.Value', 'Diabetic.screening.Value',\n",
    "                                        'Mammography.screening.Value', 'High.school.graduation.Value',\n",
    "                                        'Some.college.Value', 'Unemployment.Value', 'Children.in.poverty.Value',\n",
    "                                        'Income.inequality.Value', 'Children.in.single.parent.households.Value',\n",
    "                                        'Social.associations.Value', 'Violent.crime.Value', 'Injury.deaths.Value',\n",
    "                                        'Air.pollution...particulate.matter.Value', 'Drinking.water.violations.Value',\n",
    "                                        'Severe.housing.problems.Value', 'Driving.alone.to.work.Value',\n",
    "                                        'Long.commute...driving.alone.Value', 'X2011.population.estimate.Value',\n",
    "                                        'Population.that.is.not.proficient.in.English.Value',\n",
    "                                        'Population.living.in.a.rural.area.Value', 'Diabetes.Value',\n",
    "                                        'HIV.prevalence.rate.Value', 'Premature.age.adjusted.mortality.Value',\n",
    "                                        'Infant.mortality.Value', 'Child.mortality.Value', 'Food.insecurity.Value',\n",
    "                                        'Limited.access.to.healthy.foods.Value', 'Motor.vehicle.crash.deaths.Value',\n",
    "                                        'Drug.poisoning.deaths.Value', 'Uninsured.adults.Value',\n",
    "                                        'Uninsured.children.Value', 'Health.care.costs.Value',\n",
    "                                        'Could.not.see.doctor.due.to.cost.Value',\n",
    "                                        'Other.primary.care.providers.Value', 'Median.household.income.Value',\n",
    "                                        'Children.eligible.for.free.lunch.Value', 'Homicide.rate.Value'))"
   ]
  },
  {
   "cell_type": "code",
   "execution_count": null,
   "metadata": {
    "scrolled": true
   },
   "outputs": [],
   "source": [
    "C= na.omit(counties_1[counties_1[,'X2011.population.estimate.Value']>=30000,])"
   ]
  },
  {
   "cell_type": "code",
   "execution_count": null,
   "metadata": {},
   "outputs": [],
   "source": [
    "C <- as.numeric(gsub(\",\",\"\",C))"
   ]
  },
  {
   "cell_type": "code",
   "execution_count": null,
   "metadata": {},
   "outputs": [],
   "source": [
    "C$Sexually.transmitted.infections.Value"
   ]
  },
  {
   "cell_type": "code",
   "execution_count": null,
   "metadata": {},
   "outputs": [],
   "source": [
    "length(C$COUNTYCODE)"
   ]
  },
  {
   "cell_type": "code",
   "execution_count": null,
   "metadata": {},
   "outputs": [],
   "source": [
    "library(dplyr)    \n",
    "counties_2 = na.omit(counties_1 %>% filter('X2011.population.estimate.Value' >= 30000))"
   ]
  },
  {
   "cell_type": "code",
   "execution_count": null,
   "metadata": {},
   "outputs": [],
   "source": [
    "length(counties_2$COUNTYCODE)"
   ]
  },
  {
   "cell_type": "code",
   "execution_count": null,
   "metadata": {
    "scrolled": true
   },
   "outputs": [],
   "source": [
    "counties_3 <- lapply(counties_2, as.numeric)"
   ]
  },
  {
   "cell_type": "code",
   "execution_count": null,
   "metadata": {},
   "outputs": [],
   "source": [
    "str(counties_3)\n",
    "complete.cases(counties_3)"
   ]
  },
  {
   "cell_type": "code",
   "execution_count": null,
   "metadata": {},
   "outputs": [],
   "source": [
    "x = counties_3[complete.cases(counties_3), ]\n",
    "str(x)"
   ]
  },
  {
   "cell_type": "code",
   "execution_count": null,
   "metadata": {},
   "outputs": [],
   "source": [
    "sapply(counties_3, class)"
   ]
  },
  {
   "cell_type": "code",
   "execution_count": null,
   "metadata": {},
   "outputs": [],
   "source": [
    "counties_3$log_paamv <- log(counties_3$Premature.age.adjusted.mortality.Value)"
   ]
  },
  {
   "cell_type": "code",
   "execution_count": null,
   "metadata": {},
   "outputs": [],
   "source": [
    "dat2 <- counties_3[!names(counties_3) %in% c('COUNTYCODE', 'log_paamv', 'Premature.age...adjusted.mortality Value',\n",
    "                                             'Premature.death.Value', 'Uninsuredadults.Value', 'Teen.births.Value',\n",
    "                                             'Food.insecurity.Value', 'Injury.deaths.Value',\n",
    "                                             'Motor.vehicle.crash.deaths.Value', 'Drug.poisoning.deaths.Value',\n",
    "                                             'Child.mortality.Value', 'Uninsured.Value')]"
   ]
  },
  {
   "cell_type": "code",
   "execution_count": null,
   "metadata": {},
   "outputs": [],
   "source": [
    "dat2$Sexually.transmitted.infections.Value"
   ]
  },
  {
   "cell_type": "code",
   "execution_count": null,
   "metadata": {},
   "outputs": [],
   "source": [
    "na.omit(dat2)"
   ]
  },
  {
   "cell_type": "code",
   "execution_count": null,
   "metadata": {},
   "outputs": [],
   "source": [
    "fit <- complete.cases(lm(counties_3$log_paamv ~ . , data = dat2[!names(dat2) %in% c('COUNTYCODE', 'log_paamv', 'Premature.age...adjusted.mortality Value',\n",
    "                                             'Premature.death.Value', 'Uninsuredadults.Value', 'Teen.births.Value',\n",
    "                                             'Food.insecurity.Value', 'Injury.deaths.Value',\n",
    "                                             'Motor.vehicle.crash.deaths.Value', 'Drug.poisoning.deaths.Value',\n",
    "                                             'Child.mortality.Value', 'Uninsured.Value')]))"
   ]
  },
  {
   "cell_type": "code",
   "execution_count": null,
   "metadata": {},
   "outputs": [],
   "source": [
    "summary(fit)"
   ]
  },
  {
   "cell_type": "code",
   "execution_count": null,
   "metadata": {},
   "outputs": [],
   "source": [
    "dec = . del = , filter pop over 30000, select counties as numeric gsub \",\", \"\""
   ]
  },
  {
   "cell_type": "markdown",
   "metadata": {},
   "source": [
    "$2.$ Using the K-means clustering and hirerarchichal clustering, split the counties by the predictor \"Adult obesity Value\" in three categories (low, medium and high obesity) and run the a new set of PCA and linear regressions, with the PCA regression values, for each split and explain wheter there is a better fit for the data. (20 points)"
   ]
  },
  {
   "cell_type": "markdown",
   "metadata": {},
   "source": [
    "$3.$ Compare the distributions between Diabetic screening Value and Physical inactivity Value, are these two distributions similar? (10 points)\n",
    "1. Use the ks test \n",
    "2. Run a correlation test to compare these distributions"
   ]
  },
  {
   "cell_type": "markdown",
   "metadata": {},
   "source": [
    "$4.$ Consider an example of a clinical trial of a proposed stroke-prevention medication.  Suppose 250 participants are randomly assigned to receive either the new drug or a placebo.  The participants are followed over the course of a 5-year period with the following results: (10 points)\n",
    "\n",
    "|Group\t|Stroke\t|n|\n",
    "|---|---|---|\n",
    "|new drug|\tyes\t|12|\n",
    "|new drug|\tno\t|108|\n",
    "|placebo|\tyes\t|28|\n",
    "|placebo|\tno\t|102|\n",
    "\n",
    "\ta.  Place new drug/placebo as rows and stroke y/n as columns, what does n1,1 equal?\n",
    "\tb.  What does E1,1 equal? (E is the expected value)\n",
    "\tc.  What is the appropriate test statistic to use?\n",
    "\td.  Perform the appropriate test.  \n",
    "\te.  What is the critical value of the test statistic? \n",
    "\tf.  What do you conclude? \n"
   ]
  },
  {
   "cell_type": "markdown",
   "metadata": {},
   "source": [
    "$5.$ In unsupervised machine learning one of the main requirements to run any test is that the outcome variable needs to come from a normal distribution (10 points)\n",
    "\n",
    "a. True\n",
    "\n",
    "b. False"
   ]
  },
  {
   "cell_type": "code",
   "execution_count": null,
   "metadata": {},
   "outputs": [],
   "source": [
    "#b. False"
   ]
  },
  {
   "cell_type": "markdown",
   "metadata": {},
   "source": [
    "$6.$ We will consider data from Stanford Heart Transplant Program, reported by Crowley and Hu (1977). The research question was whether receiving a heart transplant affected survival. \n",
    "Starting in November of 1967, 103 patients in need of heart transplant were accepted in the program. Sixty-nine of these patients received a transplant. Seventy-five people had an event, while 28 subjects were censored.  For each person in the program we have the date and age at the acceptance to the program, their de-identified ID, transplant status (and time of transplant if transplant was received), if a subject had a prior bypass surgery, survival time, and if the event occurred or if the subject was censored. These data are included as part of the R survival package (dataset named heart). \n",
    "\n",
    "Transplant status is an example of a time-varying covariate. Everybody starts as pre-transplant, then some people live to receive a transplant and others die prior to being able to receive one. If two people died at the same time, but one received a transplant 1 year prior to his death, and the other received a transplant 1 day prior to death, we cannot treat them in the same way. We must appropriately attribute a person’s time to either the “pre-transplant” or “post-transplant” period.\n",
    "The way to deal with this data is to have 2 records for the patients in the study. One for the pre-transplant time, and another one for post-transplant (those subjects who did not get a transplant will only have one record). \n",
    "\n",
    "(20 points)\n",
    "\n",
    "Covariate descriptions:\n",
    "start, stop, event:\tEntry and exit time and status for this interval of time\n",
    "age:\tage-48 years\n",
    "year:\tyear of acceptance (in years after 1 Nov 1967)\n",
    "surgery:\tprior bypass surgery 1=yes\n",
    "transplant:\treceived transplant 1=yes\n",
    "id:\tpatient id\n",
    "\n",
    "1. Compare the survival curves from people that recieve a transplant vs people that didn't are these two statistically different?\n",
    "2. Build a multivariable Cox PH model with age, year, prior surgery, and transplant as covariates, but ignore the time-varying nature of transplant. Hint(in the Surv object of the model you only need to specify the \"stop\", and \"event\" variables)\n",
    "    - What is the interpretation of the HR for transplant? \n",
    "3. Now build a multivariable Cox PH model with age, year, prior surgery, and transplant as covariates, and take into account the time-varying nature of transplant. Note you need to specify the \"start\" and \"stop\" time instead of one single time variable (stop) as you did above (in the Surv object of the model).\n",
    "    - What is the interpretation of the HR for transplant?\n",
    "    - Why do you think the results changed after taking into account the time-varying nature of transplant? "
   ]
  },
  {
   "cell_type": "code",
   "execution_count": null,
   "metadata": {},
   "outputs": [],
   "source": [
    "library(survival)\n",
    "data(heart)\n",
    "head(heart)"
   ]
  }
 ],
 "metadata": {
  "kernelspec": {
   "display_name": "R",
   "language": "R",
   "name": "ir"
  },
  "language_info": {
   "codemirror_mode": "r",
   "file_extension": ".r",
   "mimetype": "text/x-r-source",
   "name": "R",
   "pygments_lexer": "r",
   "version": "3.3.2"
  }
 },
 "nbformat": 4,
 "nbformat_minor": 2
}
