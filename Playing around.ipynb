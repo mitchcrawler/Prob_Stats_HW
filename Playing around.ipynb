{
 "cells": [
  {
   "cell_type": "code",
   "execution_count": null,
   "metadata": {},
   "outputs": [],
   "source": [
    "1.2928  / 1.6161"
   ]
  },
  {
   "cell_type": "code",
   "execution_count": null,
   "metadata": {},
   "outputs": [],
   "source": [
    "P=matrix(0,5,5)\n",
    "\n",
    "P[1,]=c(1,0,0,0,0)\n",
    "P[2,]=c(0.5,0,0.5,0,0)\n",
    "P[3,]=c(0,0.5,0,0.5,0)\n",
    "P[4,]=c(0,0,0.5,0,0.5)\n",
    "P[5,]=c(0,0,0,0,1)\n",
    "\n",
    "Markov2 = function(N, Pi0, P){ #N = number of steps, N0 = initial probs, P matrix\n",
    "  P0 = c(0,0,1,0,0)\n",
    "  #P = P*P0\n",
    "  X=matrix(0,1,N)\n",
    "  a = 3 ##Start the random walk in position 3\n",
    "  X[1]=a\n",
    "  for (i in 2:N) {\n",
    "    a=sample(c(1:5),1,replace=T, P[a,])\n",
    "    X[i]=a\n",
    "  }\n",
    "  b = as.vector(X)\n",
    "  return(b)\n",
    "}\n",
    "\n",
    "P0 = c(0,0,1,0,0) ##You can play with different initial probabilities\n",
    "\n",
    "##one Run\n",
    "Markov2(15,P0,P)"
   ]
  },
  {
   "cell_type": "code",
   "execution_count": 1,
   "metadata": {},
   "outputs": [
    {
     "data": {
      "text/html": [
       "<ol class=list-inline>\n",
       "\t<li>1</li>\n",
       "\t<li>2</li>\n",
       "\t<li>3</li>\n",
       "\t<li>2</li>\n",
       "\t<li>5</li>\n",
       "\t<li>6</li>\n",
       "\t<li>5</li>\n",
       "\t<li>8</li>\n",
       "\t<li>5</li>\n",
       "\t<li>4</li>\n",
       "\t<li>1</li>\n",
       "\t<li>4</li>\n",
       "\t<li>5</li>\n",
       "\t<li>4</li>\n",
       "\t<li>7</li>\n",
       "</ol>\n"
      ],
      "text/latex": [
       "\\begin{enumerate*}\n",
       "\\item 1\n",
       "\\item 2\n",
       "\\item 3\n",
       "\\item 2\n",
       "\\item 5\n",
       "\\item 6\n",
       "\\item 5\n",
       "\\item 8\n",
       "\\item 5\n",
       "\\item 4\n",
       "\\item 1\n",
       "\\item 4\n",
       "\\item 5\n",
       "\\item 4\n",
       "\\item 7\n",
       "\\end{enumerate*}\n"
      ],
      "text/markdown": [
       "1. 1\n",
       "2. 2\n",
       "3. 3\n",
       "4. 2\n",
       "5. 5\n",
       "6. 6\n",
       "7. 5\n",
       "8. 8\n",
       "9. 5\n",
       "10. 4\n",
       "11. 1\n",
       "12. 4\n",
       "13. 5\n",
       "14. 4\n",
       "15. 7\n",
       "\n",
       "\n"
      ],
      "text/plain": [
       " [1] 1 2 3 2 5 6 5 8 5 4 1 4 5 4 7"
      ]
     },
     "metadata": {},
     "output_type": "display_data"
    }
   ],
   "source": [
    "P=matrix(0,9,9)\n",
    "\n",
    "P[1,]=c(0,1/2,0,1/2,0,0,0,0,0)\n",
    "P[2,]=c(1/3,0,1/3,0,1/3,0,0,0,0)\n",
    "P[3,]=c(0,1/2,0,0,0,1/2,0,0,0)\n",
    "P[4,]=c(1/3,0,0,0,1/3,0,1/3,0,0)\n",
    "P[5,]=c(0,1/4,0,1/4,0,1/4,0,1/4,0)\n",
    "P[6,]=c(0,0,1/3,0,1/3,0,0,0,1/3)\n",
    "P[7,]=c(0,0,0,0,0,0,1,0,0)\n",
    "P[8,]=c(0,0,0,0,1/3,0,1/3,0,1/3)\n",
    "P[9,]=c(0,0,0,0,0,0,0,0,1)\n",
    "\n",
    "Markov2 = function(N, Pi0, P){ #N = number of steps, N0 = initial probs, P matrix\n",
    "  #P0 = c(0.0005,0.4,0.199,0.4,0.0005)\n",
    "  #P = P*P0\n",
    "  X=matrix(0,1,N)\n",
    "  a = 1 ##Start the random walk in position 1\n",
    "  X[1]=a\n",
    "  for (i in 2:N) {\n",
    "    a=sample(c(1:9),1,replace=T, P[a,])\n",
    "    X[i]=a\n",
    "  }\n",
    "  b = as.vector(X)\n",
    "  return(b)\n",
    "}\n",
    "\n",
    "#P0 = c(0.9,0.025,0.025,0.025,0.025,0,0,0) ##You can play with different initial probabilities\n",
    "\n",
    "##one Run\n",
    "Markov2(15,P0,P)"
   ]
  },
  {
   "cell_type": "code",
   "execution_count": null,
   "metadata": {},
   "outputs": [],
   "source": []
  }
 ],
 "metadata": {
  "kernelspec": {
   "display_name": "R",
   "language": "R",
   "name": "ir"
  },
  "language_info": {
   "codemirror_mode": "r",
   "file_extension": ".r",
   "mimetype": "text/x-r-source",
   "name": "R",
   "pygments_lexer": "r",
   "version": "3.3.2"
  }
 },
 "nbformat": 4,
 "nbformat_minor": 2
}
