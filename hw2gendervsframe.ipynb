{
 "cells": [
  {
   "cell_type": "code",
   "execution_count": 1,
   "metadata": {},
   "outputs": [
    {
     "name": "stderr",
     "output_type": "stream",
     "text": [
      "\n",
      "Attaching package: ‘dplyr’\n",
      "\n",
      "The following objects are masked from ‘package:stats’:\n",
      "\n",
      "    filter, lag\n",
      "\n",
      "The following objects are masked from ‘package:base’:\n",
      "\n",
      "    intersect, setdiff, setequal, union\n",
      "\n"
     ]
    }
   ],
   "source": [
    "library(\"ggplot2\")\n",
    "library(\"dplyr\")\n",
    "library(\"reshape2\")\n",
    "library(\"knitr\")"
   ]
  },
  {
   "cell_type": "code",
   "execution_count": 2,
   "metadata": {},
   "outputs": [],
   "source": [
    "Diabetes = read.csv(file = \"diabetes.csv\")"
   ]
  },
  {
   "cell_type": "code",
   "execution_count": 3,
   "metadata": {},
   "outputs": [],
   "source": [
    "Diabetes.frame.gender.df <-\n",
    "  Diabetes %>%\n",
    "  group_by(frame, gender) %>%\n",
    "  filter(gender != \"Both\") %>%\n",
    "  summarize(n = n())"
   ]
  },
  {
   "cell_type": "code",
   "execution_count": 4,
   "metadata": {},
   "outputs": [
    {
     "data": {
      "text/html": [
       "<table>\n",
       "<thead><tr><th scope=col>frame</th><th scope=col>gender</th><th scope=col>n</th></tr></thead>\n",
       "<tbody>\n",
       "\t<tr><td>      </td><td>female</td><td>  7   </td></tr>\n",
       "\t<tr><td>      </td><td>male  </td><td>  5   </td></tr>\n",
       "\t<tr><td>large </td><td>female</td><td> 42   </td></tr>\n",
       "\t<tr><td>large </td><td>male  </td><td> 61   </td></tr>\n",
       "\t<tr><td>medium</td><td>female</td><td>116   </td></tr>\n",
       "\t<tr><td>medium</td><td>male  </td><td> 68   </td></tr>\n",
       "\t<tr><td>small </td><td>female</td><td> 69   </td></tr>\n",
       "\t<tr><td>small </td><td>male  </td><td> 35   </td></tr>\n",
       "</tbody>\n",
       "</table>\n"
      ],
      "text/latex": [
       "\\begin{tabular}{r|lll}\n",
       " frame & gender & n\\\\\n",
       "\\hline\n",
       "\t        & female &   7   \\\\\n",
       "\t        & male   &   5   \\\\\n",
       "\t large  & female &  42   \\\\\n",
       "\t large  & male   &  61   \\\\\n",
       "\t medium & female & 116   \\\\\n",
       "\t medium & male   &  68   \\\\\n",
       "\t small  & female &  69   \\\\\n",
       "\t small  & male   &  35   \\\\\n",
       "\\end{tabular}\n"
      ],
      "text/markdown": [
       "\n",
       "frame | gender | n | \n",
       "|---|---|---|---|---|---|---|---|\n",
       "|        | female |   7    | \n",
       "|        | male   |   5    | \n",
       "| large  | female |  42    | \n",
       "| large  | male   |  61    | \n",
       "| medium | female | 116    | \n",
       "| medium | male   |  68    | \n",
       "| small  | female |  69    | \n",
       "| small  | male   |  35    | \n",
       "\n",
       "\n"
      ],
      "text/plain": [
       "  frame  gender n  \n",
       "1        female   7\n",
       "2        male     5\n",
       "3 large  female  42\n",
       "4 large  male    61\n",
       "5 medium female 116\n",
       "6 medium male    68\n",
       "7 small  female  69\n",
       "8 small  male    35"
      ]
     },
     "metadata": {},
     "output_type": "display_data"
    }
   ],
   "source": [
    "Diabetes.frame.gender.df"
   ]
  },
  {
   "cell_type": "code",
   "execution_count": 5,
   "metadata": {},
   "outputs": [
    {
     "name": "stderr",
     "output_type": "stream",
     "text": [
      "Using n as value column: use value.var to override.\n"
     ]
    },
    {
     "data": {
      "text/plain": [
       "\n",
       "\n",
       "|frame  |female |male |\n",
       "|:------|:------|:----|\n",
       "|       |7      |5    |\n",
       "|large  |42     |61   |\n",
       "|medium |116    |68   |\n",
       "|small  |69     |35   |"
      ]
     },
     "metadata": {},
     "output_type": "display_data"
    }
   ],
   "source": [
    "Diabetes.frame.gender.df %>%\n",
    "  dcast(frame ~ gender, value.nar = \"n\") %>%\n",
    "  kable(align = \"l\", format = \"markdown\",\n",
    "        table.attr='class=\"table table-striped table-hover\"')"
   ]
  },
  {
   "cell_type": "code",
   "execution_count": 6,
   "metadata": {},
   "outputs": [
    {
     "data": {
      "text/plain": [
       "\n",
       "\n",
       "|frame  |female    |male      |\n",
       "|:------|:---------|:---------|\n",
       "|       |0.0173697 |0.0124069 |\n",
       "|large  |0.1042184 |0.1513648 |\n",
       "|medium |0.2878412 |0.1687345 |\n",
       "|small  |0.1712159 |0.0868486 |"
      ]
     },
     "metadata": {},
     "output_type": "display_data"
    }
   ],
   "source": [
    "Diabetes.frame.gender.prop.df <- \n",
    "  Diabetes.frame.gender.df %>%\n",
    "  ungroup() %>%\n",
    "  mutate(prop = n / sum(n))\n",
    "\n",
    "Diabetes.frame.gender.prop.df %>%\n",
    "  dcast(frame ~ gender, value.var = \"prop\") %>%\n",
    "  kable(align = \"l\", format = \"markdown\", \n",
    "        table.attr = 'class=\"table table-striped table-hover\"')"
   ]
  },
  {
   "cell_type": "code",
   "execution_count": 7,
   "metadata": {},
   "outputs": [],
   "source": [
    "frame.marginal.df <- \n",
    "  Diabetes.frame.gender.prop.df %>%\n",
    "  group_by(frame) %>%\n",
    "  summarize(marginal = sum(prop))\n",
    "\n",
    "gender.marginal.df <- \n",
    "  Diabetes.frame.gender.prop.df %>%\n",
    "  group_by(gender) %>%\n",
    "  summarize(marginal = sum(prop))"
   ]
  },
  {
   "cell_type": "code",
   "execution_count": 8,
   "metadata": {},
   "outputs": [
    {
     "name": "stderr",
     "output_type": "stream",
     "text": [
      "Warning message in bind_rows_(x, .id):\n",
      "“binding factor and character vector, coercing into character vector”Warning message in bind_rows_(x, .id):\n",
      "“binding character and factor vector, coercing into character vector”"
     ]
    },
    {
     "data": {
      "text/plain": [
       "\n",
       "\n",
       "|frame    |female    |male      |marginal  |\n",
       "|:--------|:---------|:---------|:---------|\n",
       "|         |0.0173697 |0.0124069 |0.0297767 |\n",
       "|large    |0.1042184 |0.1513648 |0.2555831 |\n",
       "|medium   |0.2878412 |0.1687345 |0.4565757 |\n",
       "|small    |0.1712159 |0.0868486 |0.2580645 |\n",
       "|marginal |0.5806452 |0.4193548 |NA        |"
      ]
     },
     "metadata": {},
     "output_type": "display_data"
    }
   ],
   "source": [
    "Diabetes.frame.gender.prop.df %>%\n",
    "  dcast(frame ~ gender, value.var = \"prop\") %>%\n",
    "  left_join(frame.marginal.df, by = \"frame\") %>%\n",
    "  bind_rows(\n",
    "    gender.marginal.df %>%\n",
    "      mutate(frame = \"marginal\") %>%\n",
    "      dcast(frame ~ gender, value.var = \"marginal\")\n",
    "  ) %>%\n",
    "  kable(align = \"l\", format = \"markdown\",\n",
    "        table.attr = 'class=\"table table-striped table-hover\"')"
   ]
  },
  {
   "cell_type": "code",
   "execution_count": 15,
   "metadata": {},
   "outputs": [
    {
     "data": {
      "text/html": [
       "0.104218362282878"
      ],
      "text/latex": [
       "0.104218362282878"
      ],
      "text/markdown": [
       "0.104218362282878"
      ],
      "text/plain": [
       "[1] 0.1042184"
      ]
     },
     "metadata": {},
     "output_type": "display_data"
    },
    {
     "data": {
      "text/html": [
       "0.580645161290323"
      ],
      "text/latex": [
       "0.580645161290323"
      ],
      "text/markdown": [
       "0.580645161290323"
      ],
      "text/plain": [
       "[1] 0.5806452"
      ]
     },
     "metadata": {},
     "output_type": "display_data"
    },
    {
     "data": {
      "text/html": [
       "0.179487179487179"
      ],
      "text/latex": [
       "0.179487179487179"
      ],
      "text/markdown": [
       "0.179487179487179"
      ],
      "text/plain": [
       "[1] 0.1794872"
      ]
     },
     "metadata": {},
     "output_type": "display_data"
    }
   ],
   "source": [
    "joint.prob <- \n",
    "  Diabetes.frame.gender.prop.df %>%\n",
    "  filter(frame == \"large\", gender == \"female\") %>%\n",
    "  .$prop\n",
    "\n",
    "marg.prob <- \n",
    "  gender.marginal.df %>%\n",
    "  filter(gender == \"female\") %>%\n",
    "  .$marginal\n",
    "\n",
    "cond.prob <- joint.prob / marg.prob\n",
    "joint.prob\n",
    "marg.prob\n",
    "cond.prob"
   ]
  },
  {
   "cell_type": "code",
   "execution_count": null,
   "metadata": {},
   "outputs": [],
   "source": []
  }
 ],
 "metadata": {
  "kernelspec": {
   "display_name": "R",
   "language": "R",
   "name": "ir"
  },
  "language_info": {
   "codemirror_mode": "r",
   "file_extension": ".r",
   "mimetype": "text/x-r-source",
   "name": "R",
   "pygments_lexer": "r",
   "version": "3.3.2"
  }
 },
 "nbformat": 4,
 "nbformat_minor": 2
}
