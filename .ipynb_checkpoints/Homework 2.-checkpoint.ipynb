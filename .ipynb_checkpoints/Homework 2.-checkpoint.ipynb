{
 "cells": [
  {
   "cell_type": "markdown",
   "metadata": {},
   "source": [
    "## Homework 2"
   ]
  },
  {
   "cell_type": "markdown",
   "metadata": {},
   "source": [
    "### 1. Generate a tree graph that represents flipping a coin 4 times,  let A be the event “the first outcome is tails” , B the event “ the second outcome is head” and C the event “the third outcome is tails” calculate \n",
    "\n",
    "p(AUBUC) = P (A U B U C) = P(A) + P(B) + P(C) - P(A ∩ B) - P(A ∩ C) - P(B ∩ C) + P(A ∩ B ∩ C)"
   ]
  },
  {
   "cell_type": "markdown",
   "metadata": {},
   "source": [
    "### 2. From the Dataset Diabetes, construct contingency tables for the following variable combinations:\n",
    "\n",
    "A: location Vs gender\n",
    "B: Gender Vs frame\n",
    "C: Gender Vs Age (Convert age to an discrete ordinal variable with three categories)\n",
    "D: Cholesterol Vs Age (Convert age and cholesterol to an discrete ordinal variable with three categories)\n",
    "\n",
    "calculate the joint and marginal probabilities, and from the above contingency tables choose 5 conditional probability examples with the probabilities calculations and one or two sentences explaining the results."
   ]
  },
  {
   "cell_type": "markdown",
   "metadata": {},
   "source": [
    "### 3. Baye’s Rule\n",
    "\n",
    "Write a function in R that allows you to use the Baye’s rule for multiple events.\n",
    "\n",
    "Use it to calculate the following problem:\n",
    "\n",
    "Different isoforms of fundamental Hormones such as testosterone are relatively associated to behavioral differences in humans such as extreme aggression.  In a study where 75 % of the participants had the Isoform A, and 25 % had the isoform B. 54 people exhibited extreme aggression out 95  that had Isoform A, and 34 people with extreme aggression out of 90 that had the isoform B. \n",
    "\n",
    "Calculate the probability that someone with the isoform A exhibits extreme aggression. \n",
    "Calculate the probability that someone with the isoform B exhibits extreme aggression. "
   ]
  },
  {
   "cell_type": "code",
   "execution_count": 1,
   "metadata": {},
   "outputs": [
    {
     "name": "stderr",
     "output_type": "stream",
     "text": [
      "Warning message in file(file, \"rt\"):\n",
      "“cannot open file 'Bayes Rule #3.csv': No such file or directory”"
     ]
    },
    {
     "ename": "ERROR",
     "evalue": "Error in file(file, \"rt\"): cannot open the connection\n",
     "output_type": "error",
     "traceback": [
      "Error in file(file, \"rt\"): cannot open the connection\nTraceback:\n",
      "1. read.csv(file = \"Bayes Rule #3.csv\", header = TRUE)",
      "2. read.table(file = file, header = header, sep = sep, quote = quote, \n .     dec = dec, fill = fill, comment.char = comment.char, ...)",
      "3. file(file, \"rt\")"
     ]
    }
   ],
   "source": [
    "testosterone = read.csv(file = \"Bayes Rule #3.csv\", header = TRUE)"
   ]
  },
  {
   "cell_type": "code",
   "execution_count": null,
   "metadata": {},
   "outputs": [],
   "source": [
    "testosterone"
   ]
  },
  {
   "cell_type": "code",
   "execution_count": null,
   "metadata": {},
   "outputs": [],
   "source": [
    "likelihood * prior / normalization \n",
    "\n",
    "pa1 iso a\n",
    "pa2 iso b\n",
    "pb aggression\n",
    "pa1 .75\n",
    "pa2 .25\n",
    "pb given a1 54/95\n",
    "pb given a2 34/90\n",
    "\n",
    "pa1 given b = pb given a1 * pa1/ (pb given a1 * pa1) + (pb given a2*pa2)\n",
    "pa2 given b = pb given a2 * pa2/ (pb given a2 * pa2) + (pb given a1* pa1)"
   ]
  },
  {
   "cell_type": "code",
   "execution_count": 3,
   "metadata": {},
   "outputs": [
    {
     "data": {
      "text/html": [
       "0.818641212801797"
      ],
      "text/latex": [
       "0.818641212801797"
      ],
      "text/markdown": [
       "0.818641212801797"
      ],
      "text/plain": [
       "[1] 0.8186412"
      ]
     },
     "metadata": {},
     "output_type": "display_data"
    },
    {
     "data": {
      "text/html": [
       "0.181358787198203"
      ],
      "text/latex": [
       "0.181358787198203"
      ],
      "text/markdown": [
       "0.181358787198203"
      ],
      "text/plain": [
       "[1] 0.1813588"
      ]
     },
     "metadata": {},
     "output_type": "display_data"
    }
   ],
   "source": [
    "pa1 = 0.75\n",
    "pa2 = 0.25\n",
    "pbga1 = 54/95\n",
    "pbga2 = 34/90\n",
    "\n",
    "pa1givenb= (pbga1 * pa1)/((pbga1*pa1)+(pbga2*pa2))\n",
    "pa2givenb= (pbga2 * pa2)/((pbga2*pa2)+(pbga1*pa1))\n",
    "\n",
    "pa1givenb\n",
    "pa2givenb"
   ]
  },
  {
   "cell_type": "code",
   "execution_count": 9,
   "metadata": {},
   "outputs": [
    {
     "data": {
      "text/html": [
       "0.818641212801797"
      ],
      "text/latex": [
       "0.818641212801797"
      ],
      "text/markdown": [
       "0.818641212801797"
      ],
      "text/plain": [
       "[1] 0.8186412"
      ]
     },
     "metadata": {},
     "output_type": "display_data"
    },
    {
     "data": {
      "text/html": [
       "0.181358787198203"
      ],
      "text/latex": [
       "0.181358787198203"
      ],
      "text/markdown": [
       "0.181358787198203"
      ],
      "text/plain": [
       "[1] 0.1813588"
      ]
     },
     "metadata": {},
     "output_type": "display_data"
    }
   ],
   "source": [
    "a = (pbga1*pa1)\n",
    "b = (pbga2*pa2)\n",
    "\n",
    "\n",
    "bayes = function (a,b){\n",
    "prob <- (a)/sum((a)+(b))\n",
    "return (prob)\n",
    "}\n",
    "\n",
    "bayes(a, b)\n",
    "bayes(b, a)"
   ]
  },
  {
   "cell_type": "code",
   "execution_count": null,
   "metadata": {},
   "outputs": [],
   "source": [
    "library(\"ggplot2\")\n",
    "library(\"dplyr\")\n",
    "library(\"reshape2\")\n",
    "library(\"knitr\")"
   ]
  },
  {
   "cell_type": "code",
   "execution_count": null,
   "metadata": {},
   "outputs": [],
   "source": [
    "malaria = read.csv(file = \"malaria2.csv\")"
   ]
  },
  {
   "cell_type": "code",
   "execution_count": null,
   "metadata": {},
   "outputs": [],
   "source": [
    "malaria"
   ]
  },
  {
   "cell_type": "code",
   "execution_count": null,
   "metadata": {},
   "outputs": [],
   "source": [
    "sum(malaria$infected) / length(malaria$infected)"
   ]
  },
  {
   "cell_type": "code",
   "execution_count": null,
   "metadata": {},
   "outputs": [],
   "source": [
    "malaria.Test.infected.df <-\n",
    "  malaria %>%\n",
    "  group_by(Test, infected) %>%\n",
    "  summarize(n = n())"
   ]
  },
  {
   "cell_type": "code",
   "execution_count": null,
   "metadata": {},
   "outputs": [],
   "source": [
    "malaria.Test.infected.df %>%\n",
    "  dcast(Test ~ infected, value.nar = \"n\") %>%\n",
    "  kable(align = \"l\", format = \"markdown\",\n",
    "        table.attr='class=\"table table-striped table-hover\"')"
   ]
  },
  {
   "cell_type": "code",
   "execution_count": null,
   "metadata": {},
   "outputs": [],
   "source": [
    "malaria.Test.infected.prop.df <- \n",
    "  malaria.Test.infected.df %>%\n",
    "  ungroup() %>%\n",
    "  mutate(prop = n / sum(n))\n",
    "\n",
    "malaria.Test.infected.prop.df %>%\n",
    "  dcast(Test ~ infected, value.var = \"prop\") %>%\n",
    "  kable(align = \"l\", format = \"markdown\", \n",
    "        table.attr = 'class=\"table table-striped table-hover\"')"
   ]
  },
  {
   "cell_type": "code",
   "execution_count": null,
   "metadata": {},
   "outputs": [],
   "source": [
    "Test.marginal.df <- \n",
    "  malaria.Test.infected.prop.df %>%\n",
    "  group_by(Test) %>%\n",
    "  summarize(marginal = sum(prop))\n",
    "\n",
    "infected.marginal.df <- \n",
    "  malaria.Test.infected.prop.df %>%\n",
    "  group_by(infected) %>%\n",
    "  summarize(marginal = sum(prop))"
   ]
  },
  {
   "cell_type": "code",
   "execution_count": 2,
   "metadata": {},
   "outputs": [
    {
     "ename": "ERROR",
     "evalue": "Error in eval(expr, envir, enclos): could not find function \"%>%\"\n",
     "output_type": "error",
     "traceback": [
      "Error in eval(expr, envir, enclos): could not find function \"%>%\"\nTraceback:\n"
     ]
    }
   ],
   "source": [
    "malaria.Test.infected.prop.df %>%\n",
    "  dcast(Test ~ infected, value.var = \"prop\") %>%\n",
    "  left_join(Test.marginal.df, by = \"Test\") %>%\n",
    "  bind_rows(\n",
    "    infected.marginal.df %>%\n",
    "      mutate(Test = \"marginal\") %>%\n",
    "      dcast(Test ~ infected, value.var = \"marginal\")\n",
    "  ) %>%\n",
    "  kable(align = \"l\", format = \"markdown\",\n",
    "        table.attr = 'class=\"table table-striped table-hover\"')"
   ]
  },
  {
   "cell_type": "code",
   "execution_count": null,
   "metadata": {},
   "outputs": [],
   "source": [
    "joint.prob <- \n",
    "  malaria.Test.infected.prop.df %>%\n",
    "  filter(Test == \"Pos\", infected == \"1\") %>%\n",
    "  .$prop\n",
    "\n",
    "marg.prob <- \n",
    "  infected.marginal.df %>%\n",
    "  filter(infected == \"1\") %>%\n",
    "  .$marginal\n",
    "\n",
    "cond.prob <- joint.prob / marg.prob\n",
    "cond.prob"
   ]
  },
  {
   "cell_type": "code",
   "execution_count": null,
   "metadata": {},
   "outputs": [],
   "source": []
  }
 ],
 "metadata": {
  "kernelspec": {
   "display_name": "R",
   "language": "R",
   "name": "ir"
  },
  "language_info": {
   "codemirror_mode": "r",
   "file_extension": ".r",
   "mimetype": "text/x-r-source",
   "name": "R",
   "pygments_lexer": "r",
   "version": "3.3.2"
  }
 },
 "nbformat": 4,
 "nbformat_minor": 2
}
