{
 "cells": [
  {
   "cell_type": "markdown",
   "metadata": {},
   "source": [
    "# Homework Week 7\n",
    "\n",
    "For each problem state:\n",
    "\n",
    "the null and alternative hypotheses, whether the test is a one-tail or two-tailed test, conduct the appropriate test and the tests assumptions, state and support your conclusions.  Assume the outcome variable is ~N(μ,σ2) and α = .05.\n",
    "\n",
    "Also evaluate the data based on the material reviewed in class, does the data seem to follow a normal distribution? are there outliers that could affect the data? if there are multiple samples do they have equal variance, does the data need to be transformed?\n",
    "\n",
    "Not everything needs to be applied to every dataset, however, you must judge what are the most relevant plots or analysis to draw conclusions from the data based on the hypothesis."
   ]
  },
  {
   "cell_type": "markdown",
   "metadata": {},
   "source": [
    "### A.\n",
    "\n",
    "A random sample of 30 employes from a large financial organization has been selected to evaluate their learning performance after a series of seminars. Each subject was given a test that has a national average score of 50. Has the seminar programs statistically improved the scores of the employes?\n",
    "\n",
    "These are the scores:\n",
    "\n",
    "02 54 69 47 66 44 56 55 67 47 58 39 42 45 72 72 69 75 57 54 34 62 50 58 48 63\n",
    "74 45 71 59"
   ]
  },
  {
   "cell_type": "code",
   "execution_count": 1,
   "metadata": {},
   "outputs": [
    {
     "data": {
      "text/html": [
       "55.1333333333333"
      ],
      "text/latex": [
       "55.1333333333333"
      ],
      "text/markdown": [
       "55.1333333333333"
      ],
      "text/plain": [
       "[1] 55.13333"
      ]
     },
     "metadata": {},
     "output_type": "display_data"
    },
    {
     "data": {
      "text/html": [
       "15.0899220384479"
      ],
      "text/latex": [
       "15.0899220384479"
      ],
      "text/markdown": [
       "15.0899220384479"
      ],
      "text/plain": [
       "[1] 15.08992"
      ]
     },
     "metadata": {},
     "output_type": "display_data"
    },
    {
     "data": {
      "image/png": "[encoded data removed]",
      "text/plain": [
       "plot without title"
      ]
     },
     "metadata": {},
     "output_type": "display_data"
    }
   ],
   "source": [
    "learning_performance = c(02,54,69,47,66,44,56,55,67,47,58,39,42,45,72,72,69,75,57,54,34,62,50,58,48,63,74,45,71,59)\n",
    "\n",
    "mean(learning_performance)\n",
    "sd(learning_performance)\n",
    "boxplot(learning_performance)"
   ]
  },
  {
   "cell_type": "code",
   "execution_count": 2,
   "metadata": {},
   "outputs": [],
   "source": [
    "eq = replicate(10000, t.test(learning_performance)$p.value)"
   ]
  },
  {
   "cell_type": "code",
   "execution_count": 3,
   "metadata": {},
   "outputs": [
    {
     "data": {
      "text/html": [
       "1.61561127535218e-18"
      ],
      "text/latex": [
       "1.61561127535218e-18"
      ],
      "text/markdown": [
       "1.61561127535218e-18"
      ],
      "text/plain": [
       "[1] 1.615611e-18"
      ]
     },
     "metadata": {},
     "output_type": "display_data"
    }
   ],
   "source": [
    "mean(eq)"
   ]
  },
  {
   "cell_type": "code",
   "execution_count": 4,
   "metadata": {},
   "outputs": [],
   "source": [
    "#This p value result indicates that this sample is highly significant\n",
    "#and that the seminars have statistically\n",
    "#improved the scores of the employees"
   ]
  },
  {
   "cell_type": "markdown",
   "metadata": {},
   "source": [
    "### B. \n",
    "\n",
    "A study looked at various cardiovascular risk factors in children, as measured at birth and during their first five years of life. One of the results for newborns were to study differences in bits per minute from two different races.\n",
    "Based on the data, Is there evidence that the number of heart beats/min of newborn white children is fewer than that of newborn black children? \n",
    "\n",
    "The data is located in this working directory with the name Cardiovascular_children.csv"
   ]
  },
  {
   "cell_type": "code",
   "execution_count": 5,
   "metadata": {},
   "outputs": [],
   "source": [
    "CV_Children = read.csv(\"Cardiovascular_children.csv\", header = T)"
   ]
  },
  {
   "cell_type": "code",
   "execution_count": 6,
   "metadata": {},
   "outputs": [
    {
     "name": "stderr",
     "output_type": "stream",
     "text": [
      "\n",
      "Attaching package: ‘dplyr’\n",
      "\n",
      "The following objects are masked from ‘package:stats’:\n",
      "\n",
      "    filter, lag\n",
      "\n",
      "The following objects are masked from ‘package:base’:\n",
      "\n",
      "    intersect, setdiff, setequal, union\n",
      "\n",
      "\n",
      "Attaching package: ‘data.table’\n",
      "\n",
      "The following objects are masked from ‘package:reshape2’:\n",
      "\n",
      "    dcast, melt\n",
      "\n",
      "The following objects are masked from ‘package:dplyr’:\n",
      "\n",
      "    between, first, last\n",
      "\n"
     ]
    }
   ],
   "source": [
    "library(\"ggplot2\")\n",
    "library(\"dplyr\")\n",
    "library(\"reshape2\")\n",
    "library(\"knitr\")\n",
    "library(data.table)"
   ]
  },
  {
   "cell_type": "code",
   "execution_count": 7,
   "metadata": {},
   "outputs": [],
   "source": [
    "CV.Children.race <-\n",
    "  CV_Children %>%\n",
    "  group_by(race, bpm) %>%\n",
    "  filter(race != \"NA\")"
   ]
  },
  {
   "cell_type": "code",
   "execution_count": 8,
   "metadata": {},
   "outputs": [
    {
     "data": {
      "text/html": [
       "121.289256198347"
      ],
      "text/latex": [
       "121.289256198347"
      ],
      "text/markdown": [
       "121.289256198347"
      ],
      "text/plain": [
       "[1] 121.2893"
      ]
     },
     "metadata": {},
     "output_type": "display_data"
    },
    {
     "data": {
      "text/html": [
       "133.68"
      ],
      "text/latex": [
       "133.68"
      ],
      "text/markdown": [
       "133.68"
      ],
      "text/plain": [
       "[1] 133.68"
      ]
     },
     "metadata": {},
     "output_type": "display_data"
    }
   ],
   "source": [
    "white = c(\"white\")\n",
    "black = c(\"black\")\n",
    "\n",
    "white_bpm = subset(CV.Children.race, race %in% white)\n",
    "black_bpm = subset(CV.Children.race, race %in% black)\n",
    "\n",
    "sum(white_bpm$bpm)/length(white_bpm$bpm)\n",
    "sum(black_bpm$bpm)/length(black_bpm$bpm)"
   ]
  },
  {
   "cell_type": "code",
   "execution_count": 9,
   "metadata": {},
   "outputs": [
    {
     "data": {
      "text/html": [
       "121.289256198347"
      ],
      "text/latex": [
       "121.289256198347"
      ],
      "text/markdown": [
       "121.289256198347"
      ],
      "text/plain": [
       "[1] 121.2893"
      ]
     },
     "metadata": {},
     "output_type": "display_data"
    },
    {
     "data": {
      "text/html": [
       "10.7078149160079"
      ],
      "text/latex": [
       "10.7078149160079"
      ],
      "text/markdown": [
       "10.7078149160079"
      ],
      "text/plain": [
       "[1] 10.70781"
      ]
     },
     "metadata": {},
     "output_type": "display_data"
    },
    {
     "data": {
      "text/html": [
       "133.68"
      ],
      "text/latex": [
       "133.68"
      ],
      "text/markdown": [
       "133.68"
      ],
      "text/plain": [
       "[1] 133.68"
      ]
     },
     "metadata": {},
     "output_type": "display_data"
    },
    {
     "data": {
      "text/html": [
       "9.5469017661927"
      ],
      "text/latex": [
       "9.5469017661927"
      ],
      "text/markdown": [
       "9.5469017661927"
      ],
      "text/plain": [
       "[1] 9.546902"
      ]
     },
     "metadata": {},
     "output_type": "display_data"
    }
   ],
   "source": [
    "mean(white_bpm$bpm)\n",
    "sd(white_bpm$bpm)\n",
    "mean(black_bpm$bpm)\n",
    "sd(black_bpm$bpm)"
   ]
  },
  {
   "cell_type": "code",
   "execution_count": 10,
   "metadata": {},
   "outputs": [
    {
     "data": {
      "text/plain": [
       "\n",
       "\tF test to compare two variances\n",
       "\n",
       "data:  white_bpm$bpm and black_bpm$bpm\n",
       "F = 1.258, num df = 120, denom df = 24, p-value = 0.5264\n",
       "alternative hypothesis: true ratio of variances is not equal to 1\n",
       "95 percent confidence interval:\n",
       " 0.6258819 2.2137149\n",
       "sample estimates:\n",
       "ratio of variances \n",
       "          1.257989 \n"
      ]
     },
     "metadata": {},
     "output_type": "display_data"
    }
   ],
   "source": [
    "var.test(white_bpm$bpm,black_bpm$bpm)"
   ]
  },
  {
   "cell_type": "code",
   "execution_count": 11,
   "metadata": {},
   "outputs": [
    {
     "data": {
      "text/html": [
       "1.78964239109031"
      ],
      "text/latex": [
       "1.78964239109031"
      ],
      "text/markdown": [
       "1.78964239109031"
      ],
      "text/plain": [
       "[1] 1.789642"
      ]
     },
     "metadata": {},
     "output_type": "display_data"
    }
   ],
   "source": [
    "qf(0.95, 120, 24)"
   ]
  },
  {
   "cell_type": "code",
   "execution_count": 12,
   "metadata": {},
   "outputs": [
    {
     "data": {
      "text/plain": [
       "\n",
       "\tTwo Sample t-test\n",
       "\n",
       "data:  white_bpm$bpm and black_bpm$bpm\n",
       "t = -5.3596, df = 144, p-value = 3.237e-07\n",
       "alternative hypothesis: true difference in means is not equal to 0\n",
       "95 percent confidence interval:\n",
       " -16.960321  -7.821167\n",
       "sample estimates:\n",
       "mean of x mean of y \n",
       " 121.2893  133.6800 \n"
      ]
     },
     "metadata": {},
     "output_type": "display_data"
    }
   ],
   "source": [
    "t.test(white_bpm$bpm,black_bpm$bpm, var.equal=TRUE, paired=FALSE)"
   ]
  },
  {
   "cell_type": "code",
   "execution_count": 13,
   "metadata": {},
   "outputs": [
    {
     "data": {
      "text/html": [
       "1.97657506583044"
      ],
      "text/latex": [
       "1.97657506583044"
      ],
      "text/markdown": [
       "1.97657506583044"
      ],
      "text/plain": [
       "[1] 1.976575"
      ]
     },
     "metadata": {},
     "output_type": "display_data"
    }
   ],
   "source": [
    "qt(0.975, 144)"
   ]
  },
  {
   "cell_type": "code",
   "execution_count": 14,
   "metadata": {},
   "outputs": [
    {
     "data": {
      "text/html": [
       "0.0496095843463739"
      ],
      "text/latex": [
       "0.0496095843463739"
      ],
      "text/markdown": [
       "0.0496095843463739"
      ],
      "text/plain": [
       "[1] 0.04960958"
      ]
     },
     "metadata": {},
     "output_type": "display_data"
    }
   ],
   "source": [
    "2*pt(1.98,144, lower = F)"
   ]
  },
  {
   "cell_type": "code",
   "execution_count": null,
   "metadata": {},
   "outputs": [],
   "source": [
    "#the p value is less than 0.05, so that means we reject\n",
    "#the null hypothesis.  Meaning that there is evidence that\n",
    "#white newborn babies bpm's are less than black \n",
    "#newborn babies bpm; but just barely."
   ]
  },
  {
   "cell_type": "markdown",
   "metadata": {},
   "source": [
    "### C. \n",
    "\n",
    "A 1980 study was conducted whose purpose was to compare the indoor air quality in offices where smoking was permitted with that in offices where smoking was not permitted.  Measurements were made of carbon monoxide at 1:20 pm in work areas where smoking was permitted and in areas where smoking was prohibited with the following results:\n",
    "\n",
    "Does CO vary differently in the two types of working environments?\n",
    "\n",
    "\n",
    "The data is located in this working directory with the name smoking.csv"
   ]
  },
  {
   "cell_type": "code",
   "execution_count": 26,
   "metadata": {},
   "outputs": [],
   "source": [
    "smoking = read.csv(\"smoking.csv\", header = T)"
   ]
  },
  {
   "cell_type": "code",
   "execution_count": 27,
   "metadata": {},
   "outputs": [],
   "source": [
    "Smoking <-\n",
    "  smoking %>%\n",
    "  group_by(permitted, prohibited) %>%\n",
    "  filter(permitted != \"NA\") %>%\n",
    "  filter(prohibited != \"NA\")"
   ]
  },
  {
   "cell_type": "code",
   "execution_count": 25,
   "metadata": {},
   "outputs": [
    {
     "data": {
      "text/html": [
       "10.64"
      ],
      "text/latex": [
       "10.64"
      ],
      "text/markdown": [
       "10.64"
      ],
      "text/plain": [
       "[1] 10.64"
      ]
     },
     "metadata": {},
     "output_type": "display_data"
    },
    {
     "data": {
      "text/html": [
       "7.7614431647729"
      ],
      "text/latex": [
       "7.7614431647729"
      ],
      "text/markdown": [
       "7.7614431647729"
      ],
      "text/plain": [
       "[1] 7.761443"
      ]
     },
     "metadata": {},
     "output_type": "display_data"
    },
    {
     "data": {
      "text/html": [
       "6.36"
      ],
      "text/latex": [
       "6.36"
      ],
      "text/markdown": [
       "6.36"
      ],
      "text/plain": [
       "[1] 6.36"
      ]
     },
     "metadata": {},
     "output_type": "display_data"
    },
    {
     "data": {
      "text/html": [
       "1.93390796058137"
      ],
      "text/latex": [
       "1.93390796058137"
      ],
      "text/markdown": [
       "1.93390796058137"
      ],
      "text/plain": [
       "[1] 1.933908"
      ]
     },
     "metadata": {},
     "output_type": "display_data"
    }
   ],
   "source": [
    "mean(Smoking$permitted)\n",
    "sd(Smoking$permitted)\n",
    "mean(Smoking$prohibited)\n",
    "sd(Smoking$prohibited)"
   ]
  },
  {
   "cell_type": "code",
   "execution_count": 28,
   "metadata": {},
   "outputs": [
    {
     "data": {
      "text/plain": [
       "\n",
       "\tF test to compare two variances\n",
       "\n",
       "data:  Smoking$permitted and Smoking$prohibited\n",
       "F = 16.107, num df = 24, denom df = 24, p-value = 2.341e-09\n",
       "alternative hypothesis: true ratio of variances is not equal to 1\n",
       "95 percent confidence interval:\n",
       "  7.097833 36.551140\n",
       "sample estimates:\n",
       "ratio of variances \n",
       "          16.10695 \n"
      ]
     },
     "metadata": {},
     "output_type": "display_data"
    }
   ],
   "source": [
    "var.test(Smoking$permitted,Smoking$prohibited)"
   ]
  },
  {
   "cell_type": "code",
   "execution_count": 29,
   "metadata": {},
   "outputs": [
    {
     "data": {
      "text/html": [
       "1.98375956848961"
      ],
      "text/latex": [
       "1.98375956848961"
      ],
      "text/markdown": [
       "1.98375956848961"
      ],
      "text/plain": [
       "[1] 1.98376"
      ]
     },
     "metadata": {},
     "output_type": "display_data"
    }
   ],
   "source": [
    "qf(0.95, 24, 24)"
   ]
  },
  {
   "cell_type": "code",
   "execution_count": 30,
   "metadata": {},
   "outputs": [
    {
     "data": {
      "text/plain": [
       "\n",
       "\tTwo Sample t-test\n",
       "\n",
       "data:  Smoking$permitted and Smoking$prohibited\n",
       "t = 2.6754, df = 48, p-value = 0.01018\n",
       "alternative hypothesis: true difference in means is not equal to 0\n",
       "95 percent confidence interval:\n",
       " 1.063487 7.496513\n",
       "sample estimates:\n",
       "mean of x mean of y \n",
       "    10.64      6.36 \n"
      ]
     },
     "metadata": {},
     "output_type": "display_data"
    }
   ],
   "source": [
    "t.test(Smoking$permitted,Smoking$prohibited, var.equal=TRUE, paired=FALSE)"
   ]
  },
  {
   "cell_type": "code",
   "execution_count": 31,
   "metadata": {},
   "outputs": [
    {
     "data": {
      "text/html": [
       "2.01063475762423"
      ],
      "text/latex": [
       "2.01063475762423"
      ],
      "text/markdown": [
       "2.01063475762423"
      ],
      "text/plain": [
       "[1] 2.010635"
      ]
     },
     "metadata": {},
     "output_type": "display_data"
    }
   ],
   "source": [
    "qt(0.975, 48)"
   ]
  },
  {
   "cell_type": "code",
   "execution_count": 32,
   "metadata": {},
   "outputs": [
    {
     "data": {
      "text/html": [
       "0.0500695267060582"
      ],
      "text/latex": [
       "0.0500695267060582"
      ],
      "text/markdown": [
       "0.0500695267060582"
      ],
      "text/plain": [
       "[1] 0.05006953"
      ]
     },
     "metadata": {},
     "output_type": "display_data"
    }
   ],
   "source": [
    "2*pt(2.01,48, lower = F)"
   ]
  },
  {
   "cell_type": "code",
   "execution_count": null,
   "metadata": {},
   "outputs": [],
   "source": [
    "#p value is greater than 0.05, so we accept the null\n",
    "#hypothesis; meaning that there is no difference in CO levels\n",
    "#in smoking permitted or smoking prohibited offices"
   ]
  },
  {
   "cell_type": "markdown",
   "metadata": {},
   "source": [
    "### D. \n",
    "\n",
    "A study was conducted to investigate the effect of physical training on the serum cholesterol level.  Thirty subjects participated in the study.  Prior to training, blood samples were taken to determine the cholesterol level of each subject.  Then the subjects were put through a training program that centered on daily running and jogging.  At the end of the training period, blood samples were taken again and a second reading on the serum cholesterol level was obtained. Is there an effect of the training on cholesterol levels?\n",
    "\n",
    "The data is located in this working directory with the name training.csv"
   ]
  },
  {
   "cell_type": "code",
   "execution_count": 33,
   "metadata": {},
   "outputs": [
    {
     "data": {
      "text/html": [
       "<table>\n",
       "<thead><tr><th scope=col>Subject</th><th scope=col>Pre.training.level.x..mg.Dl.</th><th scope=col>Post.training.level.x..mg.Dl.</th><th scope=col>X</th><th scope=col>X.1</th><th scope=col>X.2</th></tr></thead>\n",
       "<tbody>\n",
       "\t<tr><td>1  </td><td>182</td><td>198</td><td>NA </td><td>NA </td><td>NA </td></tr>\n",
       "\t<tr><td>2  </td><td>232</td><td>210</td><td>NA </td><td>NA </td><td>NA </td></tr>\n",
       "\t<tr><td>3  </td><td>191</td><td>194</td><td>NA </td><td>NA </td><td>NA </td></tr>\n",
       "\t<tr><td>4  </td><td>210</td><td>210</td><td>NA </td><td>NA </td><td>NA </td></tr>\n",
       "\t<tr><td>5  </td><td>148</td><td>135</td><td>NA </td><td>NA </td><td>NA </td></tr>\n",
       "\t<tr><td>6  </td><td>249</td><td>220</td><td>NA </td><td>NA </td><td>NA </td></tr>\n",
       "</tbody>\n",
       "</table>\n"
      ],
      "text/latex": [
       "\\begin{tabular}{r|llllll}\n",
       " Subject & Pre.training.level.x..mg.Dl. & Post.training.level.x..mg.Dl. & X & X.1 & X.2\\\\\n",
       "\\hline\n",
       "\t 1   & 182 & 198 & NA  & NA  & NA \\\\\n",
       "\t 2   & 232 & 210 & NA  & NA  & NA \\\\\n",
       "\t 3   & 191 & 194 & NA  & NA  & NA \\\\\n",
       "\t 4   & 210 & 210 & NA  & NA  & NA \\\\\n",
       "\t 5   & 148 & 135 & NA  & NA  & NA \\\\\n",
       "\t 6   & 249 & 220 & NA  & NA  & NA \\\\\n",
       "\\end{tabular}\n"
      ],
      "text/markdown": [
       "\n",
       "Subject | Pre.training.level.x..mg.Dl. | Post.training.level.x..mg.Dl. | X | X.1 | X.2 | \n",
       "|---|---|---|---|---|---|\n",
       "| 1   | 182 | 198 | NA  | NA  | NA  | \n",
       "| 2   | 232 | 210 | NA  | NA  | NA  | \n",
       "| 3   | 191 | 194 | NA  | NA  | NA  | \n",
       "| 4   | 210 | 210 | NA  | NA  | NA  | \n",
       "| 5   | 148 | 135 | NA  | NA  | NA  | \n",
       "| 6   | 249 | 220 | NA  | NA  | NA  | \n",
       "\n",
       "\n"
      ],
      "text/plain": [
       "  Subject Pre.training.level.x..mg.Dl. Post.training.level.x..mg.Dl. X  X.1 X.2\n",
       "1 1       182                          198                           NA NA  NA \n",
       "2 2       232                          210                           NA NA  NA \n",
       "3 3       191                          194                           NA NA  NA \n",
       "4 4       210                          210                           NA NA  NA \n",
       "5 5       148                          135                           NA NA  NA \n",
       "6 6       249                          220                           NA NA  NA "
      ]
     },
     "metadata": {},
     "output_type": "display_data"
    }
   ],
   "source": [
    "training = read.csv(\"training.csv\", header = T)\n",
    "head(training)"
   ]
  },
  {
   "cell_type": "code",
   "execution_count": 36,
   "metadata": {},
   "outputs": [
    {
     "data": {
      "image/png": "[encoded data removed]",
      "text/plain": [
       "plot without title"
      ]
     },
     "metadata": {},
     "output_type": "display_data"
    }
   ],
   "source": [
    "boxplot(training$Pre.training.level.x..mg.Dl.,training$Post.training.level.x..mg.Dl.)"
   ]
  },
  {
   "cell_type": "code",
   "execution_count": 37,
   "metadata": {},
   "outputs": [
    {
     "data": {
      "text/plain": [
       "\n",
       "\tPaired t-test\n",
       "\n",
       "data:  training$Pre.training.level.x..mg.Dl. and training$Post.training.level.x..mg.Dl.\n",
       "t = 2.2217, df = 29, p-value = 0.03427\n",
       "alternative hypothesis: true difference in means is not equal to 0\n",
       "95 percent confidence interval:\n",
       "  2.996812 72.469854\n",
       "sample estimates:\n",
       "mean of the differences \n",
       "               37.73333 \n"
      ]
     },
     "metadata": {},
     "output_type": "display_data"
    }
   ],
   "source": [
    "t.test(training$Pre.training.level.x..mg.Dl.,training$Post.training.level.x..mg.Dl., paired=TRUE)"
   ]
  },
  {
   "cell_type": "code",
   "execution_count": 38,
   "metadata": {},
   "outputs": [
    {
     "name": "stderr",
     "output_type": "stream",
     "text": [
      "Updating HTML index of packages in '.Library'\n",
      "Making 'packages.html' ... done\n"
     ]
    }
   ],
   "source": [
    "install.packages(\"pwr\")"
   ]
  },
  {
   "cell_type": "code",
   "execution_count": 39,
   "metadata": {},
   "outputs": [
    {
     "data": {
      "text/plain": [
       "\n",
       "     Conventional effect size from Cohen (1982) \n",
       "\n",
       "           test = t\n",
       "           size = medium\n",
       "    effect.size = 0.5\n"
      ]
     },
     "metadata": {},
     "output_type": "display_data"
    }
   ],
   "source": [
    "library(pwr)\n",
    "cohen.ES(test = \"t\", size = \"medium\")"
   ]
  },
  {
   "cell_type": "code",
   "execution_count": 40,
   "metadata": {},
   "outputs": [
    {
     "data": {
      "text/plain": [
       "\n",
       "     Two-sample t test power calculation \n",
       "\n",
       "              n = 30\n",
       "              d = 0.5\n",
       "      sig.level = 0.05\n",
       "          power = 0.4778965\n",
       "    alternative = two.sided\n",
       "\n",
       "NOTE: n is number in *each* group\n"
      ]
     },
     "metadata": {},
     "output_type": "display_data"
    }
   ],
   "source": [
    "pwr.t.test(n = 30, d = 0.5, sig.level = 0.05)"
   ]
  },
  {
   "cell_type": "code",
   "execution_count": 43,
   "metadata": {},
   "outputs": [
    {
     "data": {
      "text/plain": [
       "\n",
       "     Two-sample t test power calculation \n",
       "\n",
       "              n = 104.9279\n",
       "              d = 0.5\n",
       "      sig.level = 0.05\n",
       "          power = 0.95\n",
       "    alternative = two.sided\n",
       "\n",
       "NOTE: n is number in *each* group\n"
      ]
     },
     "metadata": {},
     "output_type": "display_data"
    }
   ],
   "source": [
    "pwr.t.test(d = 0.5, power = 0.95, sig.level = 0.05) "
   ]
  },
  {
   "cell_type": "code",
   "execution_count": 44,
   "metadata": {},
   "outputs": [
    {
     "data": {},
     "metadata": {},
     "output_type": "display_data"
    },
    {
     "data": {
      "image/png": "[encoded data removed]",
      "text/plain": [
       "plot without title"
      ]
     },
     "metadata": {},
     "output_type": "display_data"
    }
   ],
   "source": [
    "t.out <- pwr.t.test(d=0.5,\n",
    "                    sig.level = 0.05, \n",
    "                    power = 0.95, alternative = \"two.sided\")\n",
    "plot(t.out)"
   ]
  },
  {
   "cell_type": "code",
   "execution_count": 45,
   "metadata": {},
   "outputs": [
    {
     "data": {
      "text/html": [
       "2.0452296421327"
      ],
      "text/latex": [
       "2.0452296421327"
      ],
      "text/markdown": [
       "2.0452296421327"
      ],
      "text/plain": [
       "[1] 2.04523"
      ]
     },
     "metadata": {},
     "output_type": "display_data"
    }
   ],
   "source": [
    "qt(0.975, 29)"
   ]
  },
  {
   "cell_type": "code",
   "execution_count": 46,
   "metadata": {},
   "outputs": [
    {
     "data": {
      "text/html": [
       "0.0538151135773807"
      ],
      "text/latex": [
       "0.0538151135773807"
      ],
      "text/markdown": [
       "0.0538151135773807"
      ],
      "text/plain": [
       "[1] 0.05381511"
      ]
     },
     "metadata": {},
     "output_type": "display_data"
    }
   ],
   "source": [
    "2*pt(2.01,29, lower = F)"
   ]
  },
  {
   "cell_type": "code",
   "execution_count": null,
   "metadata": {},
   "outputs": [],
   "source": [
    "#Sample size is too small, optimal sample size is 105 patients.\n",
    "#P value is greater than 0.05, so accept the null\n",
    "#hypothesis; meaning that there is no statistically\n",
    "#significant change in cholesterol levels after training."
   ]
  }
 ],
 "metadata": {
  "kernelspec": {
   "display_name": "R",
   "language": "R",
   "name": "ir"
  },
  "language_info": {
   "codemirror_mode": "r",
   "file_extension": ".r",
   "mimetype": "text/x-r-source",
   "name": "R",
   "pygments_lexer": "r",
   "version": "3.3.2"
  }
 },
 "nbformat": 4,
 "nbformat_minor": 2
}
